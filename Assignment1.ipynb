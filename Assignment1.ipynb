{
 "cells": [
  {
   "cell_type": "code",
   "execution_count": 16,
   "id": "b42964a6-a70e-4da7-9a8f-c120332095e7",
   "metadata": {},
   "outputs": [
    {
     "name": "stdout",
     "output_type": "stream",
     "text": [
      "hello , Python world\n"
     ]
    }
   ],
   "source": [
    "print(\"hello , Python world\")"
   ]
  },
  {
   "cell_type": "code",
   "execution_count": 4,
   "id": "6b1629ce-d6c2-4335-9f6e-f942c77d16b1",
   "metadata": {},
   "outputs": [
    {
     "name": "stdin",
     "output_type": "stream",
     "text": [
      "Enter your first name:  abhishek\n",
      "Enter your last name:  sharma\n"
     ]
    },
    {
     "name": "stdout",
     "output_type": "stream",
     "text": [
      "sharma abhishek\n"
     ]
    }
   ],
   "source": [
    "\n",
    "# taking a user first and last name\n",
    "first_name = input(\"Enter your first name: \")\n",
    "last_name = input(\"Enter your last name: \")\n",
    "\n",
    "# Printing the names in reverse order\n",
    "print(f\"{last_name} {first_name}\")"
   ]
  },
  {
   "cell_type": "code",
   "execution_count": 5,
   "id": "9b58536c-52c2-48c8-ae77-76ef476c38c8",
   "metadata": {},
   "outputs": [
    {
     "name": "stdin",
     "output_type": "stream",
     "text": [
      "Enter your full name:  abhisheksharma\n"
     ]
    },
    {
     "name": "stdout",
     "output_type": "stream",
     "text": [
      "Modified name: ABHISHEKSHARMA\n"
     ]
    }
   ],
   "source": [
    "\n",
    "full_name = input(\"Enter your full name: \").strip()  \n",
    "\n",
    "\n",
    "full_name = full_name.replace(\" \", \"_\")  # Replaces all spaces with underscores\n",
    "full_name = full_name.upper()  # Converts all characters in the name to uppercase\n",
    "\n",
    "\n",
    "print(f\"Modified name: {full_name}\")\n"
   ]
  },
  {
   "cell_type": "code",
   "execution_count": 7,
   "id": "bfca8901-d53d-46cf-b92b-05300b9a8c47",
   "metadata": {},
   "outputs": [
    {
     "name": "stdin",
     "output_type": "stream",
     "text": [
      "Enter a number:  20\n"
     ]
    },
    {
     "name": "stdout",
     "output_type": "stream",
     "text": [
      "Integer value: 20\n",
      "Float value: 20.0\n",
      "Complex value: (20+0j)\n"
     ]
    }
   ],
   "source": [
    "\n",
    "user_input = input(\"Enter a number: \")\n",
    "\n",
    "# Converting the input to different numeric data types\n",
    "integer_value = int(float(user_input))  \n",
    "float_value = float(user_input)         \n",
    "complex_value = complex(user_input)     \n",
    "\n",
    "# Displaying the converted values\n",
    "print(f\"Integer value: {integer_value}\")\n",
    "print(f\"Float value: {float_value}\")\n",
    "print(f\"Complex value: {complex_value}\")\n"
   ]
  },
  {
   "cell_type": "code",
   "execution_count": 8,
   "id": "ec2c44d3-20b9-4211-bd1b-1bc3f74edc60",
   "metadata": {},
   "outputs": [
    {
     "name": "stdin",
     "output_type": "stream",
     "text": [
      "Enter the length of the rectangle:  10\n",
      "Enter the width of the rectangle:  12\n"
     ]
    },
    {
     "name": "stdout",
     "output_type": "stream",
     "text": [
      "The area of the rectangle is: 120.0\n"
     ]
    }
   ],
   "source": [
    "# the user to enter the length and width of the rectangle\n",
    "length = float(input(\"Enter the length of the rectangle: \"))  \n",
    "width = float(input(\"Enter the width of the rectangle: \"))      \n",
    "\n",
    "# Calculating the area of the rectangle\n",
    "area = length * width \n",
    "\n",
    "# Displaying the result using the print function\n",
    "print(f\"The area of the rectangle is: {area}\")\n"
   ]
  },
  {
   "cell_type": "code",
   "execution_count": 9,
   "id": "32e3db26-41d6-4bb2-a0fa-9e8caa94b375",
   "metadata": {},
   "outputs": [
    {
     "name": "stdin",
     "output_type": "stream",
     "text": [
      "Enter the length of the rectangle:  10\n",
      "Enter the width of the rectangle:  30\n"
     ]
    },
    {
     "name": "stdout",
     "output_type": "stream",
     "text": [
      "The area of the rectangle is: 300.00\n"
     ]
    }
   ],
   "source": [
    "#  the user to enter the length and width of the rectangle\n",
    "length = float(input(\"Enter the length of the rectangle: \"))  \n",
    "width = float(input(\"Enter the width of the rectangle: \"))    \n",
    "\n",
    "# Calculating the area of the rectangle\n",
    "area = length * width  # using formula\n",
    "\n",
    "# Displaying the result with two decimal places\n",
    "print(f\"The area of the rectangle is: {area:.2f}\")\n"
   ]
  },
  {
   "cell_type": "code",
   "execution_count": 10,
   "id": "7b7b6e8b-c5d1-4400-9d9a-c10d157dd5d1",
   "metadata": {},
   "outputs": [
    {
     "name": "stdin",
     "output_type": "stream",
     "text": [
      "Enter the first number:  2.4\n",
      "Enter the second number:  3.67\n",
      "Enter the third number:  7.88\n"
     ]
    },
    {
     "name": "stdout",
     "output_type": "stream",
     "text": [
      "The average of the three numbers is: 4.65\n"
     ]
    }
   ],
   "source": [
    "# Taking three numbers as input from the user\n",
    "num1 = float(input(\"Enter the first number: \")) \n",
    "num2 = float(input(\"Enter the second number: \"))\n",
    "num3 = float(input(\"Enter the third number: \"))  \n",
    "\n",
    "# Calculating the average of the three numbers\n",
    "average = (num1 + num2 + num3) / 3\n",
    "\n",
    "# Printing the average using the % method for string formatting\n",
    "print(\"The average of the three numbers is: %.2f\" % average)\n"
   ]
  },
  {
   "cell_type": "code",
   "execution_count": 11,
   "id": "dab012f8-f1ea-435b-85d7-d3799288a974",
   "metadata": {},
   "outputs": [
    {
     "name": "stdin",
     "output_type": "stream",
     "text": [
      "Enter the first number:  2\n",
      "Enter the second number:  5.6\n",
      "Enter the third number:  7.9\n"
     ]
    },
    {
     "name": "stdout",
     "output_type": "stream",
     "text": [
      "The average of the three numbers is: 5.17\n"
     ]
    }
   ],
   "source": [
    "###### Taking three numbers as input from the user\n",
    "num1 = float(input(\"Enter the first number: \"))  \n",
    "num2 = float(input(\"Enter the second number: \")) \n",
    "num3 = float(input(\"Enter the third number: \"))  \n",
    "\n",
    "# Calculating the average of the three numbers\n",
    "average = (num1 + num2 + num3) / 3\n",
    "\n",
    "\n",
    "print(\"The average of the three numbers is: %.2f\" % average)\n"
   ]
  },
  {
   "cell_type": "code",
   "execution_count": 12,
   "id": "fd4d6b3c-ea79-4071-a831-54a83318df6d",
   "metadata": {},
   "outputs": [
    {
     "name": "stdin",
     "output_type": "stream",
     "text": [
      "Enter a number:  0\n"
     ]
    },
    {
     "name": "stdout",
     "output_type": "stream",
     "text": [
      "The number is zero.\n"
     ]
    }
   ],
   "source": [
    "# Asking the user for a number\n",
    "number = float(input(\"Enter a number: \")) \n",
    "\n",
    "# Determining whether the number is positive, negative, or zero\n",
    "if number > 0:\n",
    "    print(\"The number is positive.\")\n",
    "elif number < 0:\n",
    "    print(\"The number is negative.\")\n",
    "else:\n",
    "    print(\"The number is zero.\")\n"
   ]
  },
  {
   "cell_type": "code",
   "execution_count": 13,
   "id": "08ff6820-bcce-4f7c-964a-71e38ab38a68",
   "metadata": {},
   "outputs": [
    {
     "name": "stdin",
     "output_type": "stream",
     "text": [
      "Enter a number (or type 'exit' to quit):  0\n"
     ]
    },
    {
     "name": "stdout",
     "output_type": "stream",
     "text": [
      "The number is zero.\n"
     ]
    },
    {
     "name": "stdin",
     "output_type": "stream",
     "text": [
      "Enter a number (or type 'exit' to quit):  exit\n"
     ]
    },
    {
     "name": "stdout",
     "output_type": "stream",
     "text": [
      "Exiting the program.\n"
     ]
    }
   ],
   "source": [
    "while True:\n",
    "    # Asking the user for input\n",
    "    user_input = input(\"Enter a number (or type 'exit' to quit): \")\n",
    "\n",
    "    # Checking if the user wants to exit\n",
    "    if user_input.lower() == 'exit':  \n",
    "        print(\"Exiting the program.\")\n",
    "        break\n",
    "\n",
    "    try:\n",
    "        # Converting input to a float and determining if it is positive, negative, or zero\n",
    "        number = float(user_input)\n",
    "\n",
    "        if number > 0:\n",
    "            print(\"The number is positive.\")\n",
    "        elif number < 0:\n",
    "            print(\"The number is negative.\")\n",
    "        else:\n",
    "            print(\"The number is zero.\")\n",
    "    except ValueError:\n",
    "        print(\"Invalid input. Please enter a valid number or type 'exit' to quit.\")\n"
   ]
  },
  {
   "cell_type": "code",
   "execution_count": 14,
   "id": "6b77065f-087c-4224-b455-10c1cd436051",
   "metadata": {},
   "outputs": [
    {
     "name": "stdin",
     "output_type": "stream",
     "text": [
      "Enter the first number:  4\n",
      "Enter the second number:  5\n"
     ]
    },
    {
     "name": "stdout",
     "output_type": "stream",
     "text": [
      "One number is even, and the other is odd.\n"
     ]
    }
   ],
   "source": [
    "# Taking two numbers as input from the user\n",
    "num1 = int(input(\"Enter the first number: \"))  \n",
    "num2 = int(input(\"Enter the second number: \")) \n",
    "\n",
    "# Using logical AND operator to check if both are even\n",
    "if num1 % 2 == 0 and num2 % 2 == 0:  \n",
    "    print(\"Both numbers are even.\")\n",
    "\n",
    "# Using logical AND operator to check if both are odd\n",
    "elif num1 % 2 != 0 and num2 % 2 != 0:  \n",
    "    print(\"Both numbers are odd.\")\n",
    "\n",
    "# Checking if one number is even and the other is odd\n",
    "else:\n",
    "    print(\"One number is even, and the other is odd.\")\n"
   ]
  },
  {
   "cell_type": "code",
   "execution_count": 15,
   "id": "55552444-e7e7-4d2a-a836-26de74ba464d",
   "metadata": {},
   "outputs": [
    {
     "name": "stdin",
     "output_type": "stream",
     "text": [
      "Enter an integer:  4\n"
     ]
    },
    {
     "name": "stdout",
     "output_type": "stream",
     "text": [
      "Binary equivalent: 100\n",
      "Octal equivalent: 4\n",
      "Hexadecimal equivalent: 4\n"
     ]
    }
   ],
   "source": [
    "# Function to convert integer to binary using bitwise operators\n",
    "def to_binary(n):\n",
    "    if n == 0:\n",
    "        return '0'\n",
    "    binary_str = ''\n",
    "    while n > 0:\n",
    "        binary_str = str(n & 1) + binary_str\n",
    "        n = n >> 1\n",
    "    return binary_str\n",
    "\n",
    "# Function to convert integer to octal using bitwise operators\n",
    "def to_octal(n):\n",
    "    if n == 0:\n",
    "        return '0'\n",
    "    octal_str = ''\n",
    "    while n > 0:\n",
    "        octal_str = str(n & 7) + octal_str\n",
    "        n = n >> 3\n",
    "    return octal_str\n",
    "\n",
    "# Function to convert integer to hexadecimal using bitwise operators\n",
    "def to_hexadecimal(n):\n",
    "    if n == 0:\n",
    "        return '0'\n",
    "    hex_digits = '0123456789ABCDEF'\n",
    "    hexadecimal_str = ''\n",
    "    while n > 0:\n",
    "        hexadecimal_str = hex_digits[n & 15] + hexadecimal_str\n",
    "        n = n >> 4\n",
    "    return hexadecimal_str\n",
    "\n",
    "# Taking an integer input from the user\n",
    "number = int(input(\"Enter an integer: \"))\n",
    "\n",
    "# Converting the number to binary, octal, and hexadecimal\n",
    "binary_equivalent = to_binary(number)\n",
    "octal_equivalent = to_octal(number)\n",
    "hexadecimal_equivalent = to_hexadecimal(number)\n",
    "\n",
    "# Printing the results\n",
    "print(f\"Binary equivalent: {binary_equivalent}\")\n",
    "print(f\"Octal equivalent: {octal_equivalent}\")\n",
    "print(f\"Hexadecimal equivalent: {hexadecimal_equivalent}\")\n"
   ]
  },
  {
   "cell_type": "code",
   "execution_count": null,
   "id": "7139cb3f-45e7-4fca-8239-bf30abcd5bf7",
   "metadata": {},
   "outputs": [],
   "source": []
  }
 ],
 "metadata": {
  "kernelspec": {
   "display_name": "Python 3 (ipykernel)",
   "language": "python",
   "name": "python3"
  },
  "language_info": {
   "codemirror_mode": {
    "name": "ipython",
    "version": 3
   },
   "file_extension": ".py",
   "mimetype": "text/x-python",
   "name": "python",
   "nbconvert_exporter": "python",
   "pygments_lexer": "ipython3",
   "version": "3.11.7"
  }
 },
 "nbformat": 4,
 "nbformat_minor": 5
}
